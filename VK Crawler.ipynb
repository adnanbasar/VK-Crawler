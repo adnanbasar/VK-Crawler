{
 "metadata": {
  "name": ""
 },
 "nbformat": 3,
 "nbformat_minor": 0,
 "worksheets": [
  {
   "cells": [
    {
     "cell_type": "code",
     "collapsed": false,
     "input": [
      "from bs4 import BeautifulSoup\n",
      "import urllib2"
     ],
     "language": "python",
     "metadata": {},
     "outputs": [],
     "prompt_number": 1
    },
    {
     "cell_type": "code",
     "collapsed": false,
     "input": [
      "def vkvideo(link,quality):\n",
      "    f = urllib2.urlopen(link)\n",
      "    x = f.read()\n",
      "\n",
      "    options = {}\n",
      "    \n",
      "    soup = BeautifulSoup(x)\n",
      "    flashvars = soup.embed['flashvars']\n",
      "    for item in flashvars.split('&'):\n",
      "        if(item.startswith('url')):\n",
      "            options.update({int(item.split('.')[-2]): item.split('=')[-1]})\n",
      "    \n",
      "    try:\n",
      "        return options[quality]\n",
      "    except KeyError:\n",
      "        return \"Reqested quality is missing or video...\"\n",
      "    "
     ],
     "language": "python",
     "metadata": {},
     "outputs": [],
     "prompt_number": 2
    },
    {
     "cell_type": "code",
     "collapsed": false,
     "input": [
      "vkvideo('http://vk.com/video_ext.php?oid=232114372&id=166824769&hash=3cccf3f0ad632b99&hd=3',720)"
     ],
     "language": "python",
     "metadata": {},
     "outputs": [
      {
       "metadata": {},
       "output_type": "pyout",
       "prompt_number": 3,
       "text": [
        "'http://cs525517v4.vk.me/u232114372/videos/f6b289f150.720.mp4'"
       ]
      }
     ],
     "prompt_number": 3
    }
   ],
   "metadata": {}
  }
 ]
}